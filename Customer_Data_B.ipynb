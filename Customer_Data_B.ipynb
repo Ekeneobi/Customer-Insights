{
  "nbformat": 4,
  "nbformat_minor": 0,
  "metadata": {
    "colab": {
      "provenance": [],
      "authorship_tag": "ABX9TyNVt3OR4btUPXNUl6G9u4Ie",
      "include_colab_link": true
    },
    "kernelspec": {
      "name": "python3",
      "display_name": "Python 3"
    },
    "language_info": {
      "name": "python"
    }
  },
  "cells": [
    {
      "cell_type": "markdown",
      "metadata": {
        "id": "view-in-github",
        "colab_type": "text"
      },
      "source": [
        "<a href=\"https://colab.research.google.com/github/Ekeneobi/Customer-Insights/blob/main/Customer_Data_B.ipynb\" target=\"_parent\"><img src=\"https://colab.research.google.com/assets/colab-badge.svg\" alt=\"Open In Colab\"/></a>"
      ]
    },
    {
      "cell_type": "markdown",
      "source": [
        "Create a new customer demo data from scratch to test with new ML features."
      ],
      "metadata": {
        "id": "sbSniAIGN54Z"
      }
    },
    {
      "cell_type": "code",
      "source": [
        "# 1. Importing Required Libraries\n",
        "\n",
        "import pandas as pd                       # Data Manipulation with DataFrames\n",
        "import numpy as np                        # Numerical Python\n",
        "import matplotlib.pyplot as plt           # Data Visualization\n",
        "import seaborn as sns                     # Statistical plotting\n",
        "from datetime import datetime, timedelta  # Date Handling\n",
        "import random                             # Generating synthetic data\n",
        "\n",
        "# 2. Set random seed\n",
        "np.random.seed(42)\n",
        "random.seed(42)\n",
        "\n",
        "# 3. Define dataset parameters\n",
        "num_rows = 100000  # Number of rows in the dataset\n",
        "gender = ['Male', 'Female']\n",
        "region = ['East', 'West', 'South', 'North']\n",
        "marital_status = ['Single', 'Married', 'Divorced','Widowed']\n",
        "employment_status = ['Employed', 'Retired', 'Unemployed', 'Student']\n",
        "\n",
        "# 4. Generate sysnthetic data\n",
        "age = np.random.randint(18, 69, num_rows)\n",
        "gender = np.random.choice(gender, num_rows)\n",
        "region = np.random.choice(region, num_rows)\n",
        "marital_status = np.random.choice(marital_status, num_rows)\n",
        "employment_status = np.random.choice(employment_status, num_rows)\n",
        "annual_income = np.random.randint(20000, 100000, num_rows)\n",
        "spending_score = np.random.randint(1, 101, num_rows)\n",
        "num_children = np.random.randint(0, 5, num_rows)\n",
        "credit_score = np.random.randint(300, 851, num_rows)\n",
        "online_shopping_freq = np.random.randint(1, 13, num_rows)\n",
        "\n",
        "# 5. Create Dataframe\n",
        "\n",
        "df = pd.DataFrame({\n",
        "    'Age': age,\n",
        "    'Gender': gender,\n",
        "    'Region': region,\n",
        "    'Marital_Status': marital_status,\n",
        "    'Employment_Status': employment_status,\n",
        "    'Annual_Income': annual_income,\n",
        "    'Spending_Score': spending_score,\n",
        "    'Num_of_Children': num_children,\n",
        "    'Credit_Score': credit_score,\n",
        "    'Online_Shopping_Frequency': online_shopping_freq\n",
        "})\n",
        "\n",
        "# Export file\n",
        "df.to_csv('customer_data_b.csv', index=False)"
      ],
      "metadata": {
        "id": "F9j13w-dOCm7"
      },
      "execution_count": 5,
      "outputs": []
    }
  ]
}