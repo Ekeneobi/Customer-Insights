{
  "nbformat": 4,
  "nbformat_minor": 0,
  "metadata": {
    "colab": {
      "provenance": [],
      "authorship_tag": "ABX9TyOXAal3m2R36tctFODb3Rw1",
      "include_colab_link": true
    },
    "kernelspec": {
      "name": "python3",
      "display_name": "Python 3"
    },
    "language_info": {
      "name": "python"
    }
  },
  "cells": [
    {
      "cell_type": "markdown",
      "metadata": {
        "id": "view-in-github",
        "colab_type": "text"
      },
      "source": [
        "<a href=\"https://colab.research.google.com/github/Ekeneobi/Customer-Insights/blob/main/Customer_Data_Scamble_Data_for_Test_script.ipynb\" target=\"_parent\"><img src=\"https://colab.research.google.com/assets/colab-badge.svg\" alt=\"Open In Colab\"/></a>"
      ]
    },
    {
      "cell_type": "code",
      "execution_count": 1,
      "metadata": {
        "colab": {
          "base_uri": "https://localhost:8080/"
        },
        "id": "FNxQlnw5mh42",
        "outputId": "c2a0b928-8740-4953-a7cb-8c90f4cb79f5"
      },
      "outputs": [
        {
          "output_type": "stream",
          "name": "stderr",
          "text": [
            "<ipython-input-1-9c2884859201>:47: DtypeWarning: Columns (2,19,21,22,25,26,27,28,29,30,31,33,34,35,39,41,43,44,46,47,54) have mixed types. Specify dtype option on import or set low_memory=False.\n",
            "  df = pd.read_csv('/content/scrambled_data.csv')\n"
          ]
        }
      ],
      "source": [
        "import pandas as pd\n",
        "import numpy as np\n",
        "import re\n",
        "\n",
        "def scramble_columns(df, columns, noise_range=(3, 5)):\n",
        "  \"\"\"\n",
        "  Scrambles specified columns in a pandas DataFrame using additive noise.\n",
        "\n",
        "  Args:\n",
        "    df: The pandas DataFrame.\n",
        "    columns: A list of column names to scramble.\n",
        "    noise_range: A tuple representing the minimum and maximum noise values.\n",
        "\n",
        "  Returns:\n",
        "    A new DataFrame with the specified columns scrambled.\n",
        "  \"\"\"\n",
        "  scrambled_df = df.copy()\n",
        "  for col in columns:\n",
        "    scrambled_df[col] = df[col] + np.random.uniform(noise_range[0], noise_range[1], size=len(df))\n",
        "  return scrambled_df\n",
        "\n",
        "def replace_strings_with_regex(df, columns, replacements):\n",
        "  \"\"\"\n",
        "  Replaces string values in specified columns of a pandas DataFrame using regular expressions.\n",
        "\n",
        "  Args:\n",
        "    df: The pandas DataFrame.\n",
        "    columns: A list of column names to replace values in.\n",
        "    replacements: A dictionary where keys are the columns and\n",
        "                   values are dictionaries of regex_pattern: replacement_value pairs.\n",
        "\n",
        "  Returns:\n",
        "    A new DataFrame with the replaced values.\n",
        "  \"\"\"\n",
        "\n",
        "  df_new = df.copy()\n",
        "\n",
        "  for col in columns:\n",
        "    if col in replacements:\n",
        "      for pattern, replacement in replacements[col].items():\n",
        "        df_new[col] = df_new[col].str.replace(pattern, replacement, regex=True)\n",
        "\n",
        "  return df_new\n",
        "\n",
        "# Example Usage:\n",
        "# Load the CSV file into a pandas DataFrame\n",
        "df = pd.read_csv('/content/scrambled_data.csv')\n",
        "\n",
        "# Specify the columns to scramble\n",
        "columns_to_scramble = ['Conversions_keywords' ,'Cost' ,'2024 CTR' ,'Sessions Per User' ,'Average Session Duration' ,'Bounce Rate' ,'Engagement Rate' ,'CPC' ,'metrics_interactionRate' ,'Cost_keywords' ,'Interation_rate_keywords' ,'Clicks' ,'Impressions' ,'New Users' ,'Sessions' ,'Total Users' ,'User Engagement' ,'Engaged Sessions' ,'Conversions' ,'Views' ,'Event Count' ,'FB Leads' ,'Clicks_keywords' ,'CostMicros_keywords' ,'Impressions_keywords']\n",
        "\n",
        "# Scramble the specified columns\n",
        "scrambled_df = scramble_columns(df, columns_to_scramble)\n",
        "\n",
        "columns_to_replace = ['Keywords','2024 Products','2024 Audience','Campaign Name','Ad Name','Page Title']\n",
        "replacements = {\n",
        "    'Keywords': { '.*Merck.*': 'Keywords Samples', '.*vaccin.*': 'Keywords Samples 1', '.*disease.*': 'Keywords Samples 2',  '.*cattle.*': 'Keywords Samples 3' },\n",
        "    '2024 Products': { '.*Vista.*': 'Product Samples', '.*Nasalgen.*': 'Product Samples 1', '.*Vision.*': 'Product Samples 2',  '.*Safe.*': 'Product Samples 3',  '.*Revalor.*': 'Product Samples 4',  '.*Evolution.*': 'Product Samples 5',  '.*Resflor.*': 'Product Samples 6', '.*Zuprevo.*': 'Product Samples 7' , '.*Ralgro.*': 'Product Samples 8' , '.*SenseHub.*': 'Product Samples 9'  },\n",
        "    '2024 Audience': { '.*Cow Calf.*': 'Audience Sample', '.*Feedlot.*': 'Audience Sample 1', '.*Vets.*': 'Audience Sample 2' },\n",
        "    'Campaign Name': { '.*Implants.*': 'Campaign Samples', '.*Parastiticides.*': 'Campaign Samples 1', '.*Anti.*': 'Campaign Samples 2',  '.*Vaccines.*': 'Campaign Samples 3' },\n",
        "    'Ad Name': { '.*Vista.*': 'Ad Name Samples', '.*Nasalgen.*': 'Ad Name Samples 1', '.*Vision.*': 'Ad Name Samples 2',  '.*Safe.*': 'Ad Name Samples 3',  '.*Revalor.*': 'Ad Name Samples 4',  '.*Evolution.*': 'Ad Name Samples 5',  '.*Resflor.*': 'Ad Name Samples 6'  },\n",
        "    'Page Title': { '.*Vista.*': 'Page Title Samples', '.*Nasalgen.*': 'Page Title Samples 1', '.*Vision.*': 'Page Title Samples 2',  '.*Safe.*': 'Page Title Samples 3',  '.*Revalor.*': 'Page Title Samples 4',  '.*Evolution.*': 'Page Title Samples 5',  '.*Resflor.*': 'Page Title Samples 6' , '.*Merck Animal Health USA.*': 'Page Title Samples 7','.*Merck.*': 'Page Title Samples 8'}\n",
        "}\n",
        "\n",
        "scrambled_df = replace_strings_with_regex(scrambled_df, columns_to_replace, replacements)\n",
        "\n",
        "# Save the scrambled data to a new CSV file\n",
        "scrambled_df.to_csv('scrambled_data.csv', index=False)"
      ]
    }
  ]
}